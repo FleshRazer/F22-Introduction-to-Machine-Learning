{
  "cells": [
    {
      "cell_type": "markdown",
      "metadata": {
        "pycharm": {
          "name": "#%% md\n"
        },
        "id": "mbbw97ipk49b"
      },
      "source": [
        "# Lab 1: Crash course on Python\n",
        "Python is a general purpose programming language and one of the most popular\n",
        "programming languages. It is widely used in the scientific community because\n",
        "of its ease of use and simple syntax. Python also offers a large collection of\n",
        "libraries that help to solve complex problems easily and build strong system\n",
        "and data application.\n",
        "\n",
        "[PEP8](https://realpython.com/python-pep8/) is one of the standards that\n",
        "specifies guidelines and best practices on how to write Python code"
      ]
    },
    {
      "cell_type": "markdown",
      "metadata": {
        "id": "gqIgohSwk49e"
      },
      "source": [
        "---\n",
        "## Variables and Datatypes\n",
        "Python has different data types, here is the most common ones\n",
        "\n",
        "| Data Types   | Examples            | Explanation          | Mutable? |\n",
        "| ------------ | ------------------- | -------------------- | -------- |\n",
        "| Strings      | \"Hi!\", '1.3'        | Text                 | No       |\n",
        "| Integers     | 49                  | Whole numbers        | No       |\n",
        "| Floats       | 3.14                | Decimal Numbers      | No       |\n",
        "| Booleans     | True, False         | Truth values         | No       |\n",
        "| Lists        | \\[1, 'a', [1.5, 2]\\]| A collection of data | Yes      |\n",
        "| Tuples       | (1, 2, 3, 4, 5)     | A collection of data | Yes      |\n",
        "| Dictionaries | {\"a\": 1, \"b\": True} | A collection of data | Yes      |"
      ]
    },
    {
      "cell_type": "code",
      "execution_count": null,
      "metadata": {
        "id": "NFsFCn8qk49f"
      },
      "outputs": [],
      "source": [
        "# Assigning data to variables\n",
        "var_1 = \"Hello World\"\n",
        "var_2 = 254\n",
        "var_3 = 25.43\n",
        "var_4 = [\"Anna\", \"Bella\", \"Cora\"]\n",
        "var_5 = {'Course': 'ML', 'Grade': 'A'} # key: value\n",
        "\n",
        "# You can access List elements with their index\n",
        "# and access Dict elements with their key\n",
        "print('Student:', var_4[0], 'got', var_5['Grade'])\n",
        "\n",
        "# When in doubt you can always check data types\n",
        "print('Variables data types')\n",
        "print('var_1', type(var_1))\n",
        "print('var_2', type(var_2))\n",
        "print('var_3', type(var_3))\n",
        "print('var_4', type(var_4))\n",
        "print('var_5', type(var_5))"
      ]
    },
    {
      "cell_type": "markdown",
      "metadata": {
        "pycharm": {
          "name": "#%% md\n"
        },
        "id": "pyJI6PbUk49g"
      },
      "source": [
        "Using list and tuple"
      ]
    },
    {
      "cell_type": "code",
      "execution_count": null,
      "metadata": {
        "id": "GHAzmGBak49h"
      },
      "outputs": [],
      "source": [
        "x = [1, 2, 3]  # creating a list\n",
        "y = x  # assigning a reference\n",
        "y[0] += 1\n",
        "# The change is in both x and y because both point to the same object\n",
        "print(x, y)"
      ]
    },
    {
      "cell_type": "code",
      "execution_count": null,
      "metadata": {
        "id": "U__HAumek49h"
      },
      "outputs": [],
      "source": [
        "x = (1, 2, 3)  # creating a tuple\n",
        "y = x\n",
        "# y[0] += 1 gives error because it's immutable\n",
        "y += (4, 5)  # a new tuple is generated to\n",
        "print(x, y)"
      ]
    },
    {
      "cell_type": "code",
      "execution_count": null,
      "metadata": {
        "jupyter": {
          "outputs_hidden": false
        },
        "pycharm": {
          "name": "#%%\n"
        },
        "id": "I2i-auJZk49i"
      },
      "outputs": [],
      "source": [
        "x = [1, 2, 3, 4, 5, 6, 7, 8, 9, 10]\n",
        "print('x size:', len(x))\n",
        "print('The second element in x:', x[1])\n",
        "print('The last element in x:', x[-1])\n",
        "print('The first 3 elements in x:', x[:3])  # also x[0: 3] works"
      ]
    },
    {
      "cell_type": "markdown",
      "metadata": {
        "pycharm": {
          "name": "#%% md\n"
        },
        "id": "WOLj5RRPk49i"
      },
      "source": [
        "### Task 1:\n",
        "Print the last 3 elements of x"
      ]
    },
    {
      "cell_type": "code",
      "execution_count": null,
      "metadata": {
        "jupyter": {
          "outputs_hidden": false
        },
        "pycharm": {
          "name": "#%%\n"
        },
        "id": "FEcJ0ssCk49i"
      },
      "outputs": [],
      "source": [
        "# Solve here"
      ]
    },
    {
      "cell_type": "markdown",
      "metadata": {
        "pycharm": {
          "name": "#%% md\n"
        },
        "id": "ffAAOo4Mk49j"
      },
      "source": [
        "## Operators\n",
        "[Reference](https://www.geeksforgeeks.org/python-operators/)\n",
        "\n",
        "When dealing with data, knowing python operators and how they work can make\n",
        "your code smaller and more efficient.\n",
        "\n",
        "We will look at the operator that might be new to you.\n",
        "Refer to this [reference](https://www.geeksforgeeks.org/python-operators/)\n",
        "for all the operations.\n",
        "\n",
        "| Operator | Description                                               | Syntax        |\n",
        "| -------- | --------------------------------------------------------- | ------------- |\n",
        "| //       | Division (floor): divides the first operand by the second | x//y          |\n",
        "| **       | Power: Returns first raised to power second               | x**y          |\n",
        "| is       | True if the operands are identical                        | x**y          |\n",
        "| is not   | True if the operands are not identical                    | x**y          |\n",
        "| in       | True if value is found in the sequence                    | x**y          |\n",
        "| not in   | True if value is not found in the sequence                | x**y          |\n",
        "| Ternary  | testing a condition in a single line                      | x if a else y |"
      ]
    },
    {
      "cell_type": "code",
      "execution_count": null,
      "metadata": {
        "id": "gtCbM8Zsk49j"
      },
      "outputs": [],
      "source": [
        "# //\tDivision (floor): divides and floor the output\n",
        "a = 10\n",
        "b = 3\n",
        "div = a / b\n",
        "div_floor = a // b\n",
        "\n",
        "print(div, div_floor)"
      ]
    },
    {
      "cell_type": "code",
      "execution_count": null,
      "metadata": {
        "id": "KyyRyVMmk49j"
      },
      "outputs": [],
      "source": [
        "# negative division could be counter intuitive\n",
        "print (5//2)\n",
        "print (-5//2) # floor(-2.333) gives the integer smaller -> -3\n"
      ]
    },
    {
      "cell_type": "code",
      "execution_count": null,
      "metadata": {
        "jupyter": {
          "outputs_hidden": false
        },
        "pycharm": {
          "name": "#%%\n"
        },
        "id": "qQoZTowak49j"
      },
      "outputs": [],
      "source": [
        "# Power\n",
        "pwr = a ** b\n",
        "print(pwr)"
      ]
    },
    {
      "cell_type": "code",
      "execution_count": null,
      "metadata": {
        "jupyter": {
          "outputs_hidden": false
        },
        "pycharm": {
          "name": "#%%\n"
        },
        "id": "d8ZB_LcNk49k"
      },
      "outputs": [],
      "source": [
        "# is, is not\n",
        "c = a\n",
        "print(a is not b)\n",
        "print(a is c)"
      ]
    },
    {
      "cell_type": "code",
      "execution_count": null,
      "metadata": {
        "jupyter": {
          "outputs_hidden": false
        },
        "pycharm": {
          "name": "#%%\n"
        },
        "id": "u9PMKmxpk49k"
      },
      "outputs": [],
      "source": [
        "# in, not in\n",
        "x, y = 24, 20\n",
        "l = [10, 20, 30, 40, 50]\n",
        "\n",
        "print(x not in l)\n",
        "print(y in l)\n"
      ]
    },
    {
      "cell_type": "code",
      "execution_count": null,
      "metadata": {
        "jupyter": {
          "outputs_hidden": false
        },
        "pycharm": {
          "name": "#%%\n"
        },
        "id": "rZ9MVezQk49k"
      },
      "outputs": [],
      "source": [
        "# Ternary operator\n",
        "if a < b:\n",
        "    print(a)\n",
        "else:\n",
        "    print(b)\n",
        "\n",
        "# [on_true] if [expression] else [on_false]\n",
        "minimum = a if a < b else b\n",
        "print(minimum)"
      ]
    },
    {
      "cell_type": "markdown",
      "metadata": {
        "pycharm": {
          "name": "#%% md\n"
        },
        "id": "l-rs24_Ok49l"
      },
      "source": [
        "## Iteration\n",
        "The 2 main loops in python are `while` and `for` loops\n",
        "\n",
        "[Reference](https://www.geeksforgeeks.org/loops-in-python/)"
      ]
    },
    {
      "cell_type": "code",
      "execution_count": null,
      "metadata": {
        "jupyter": {
          "outputs_hidden": false
        },
        "pycharm": {
          "name": "#%%\n"
        },
        "id": "9riBTkhIk49l"
      },
      "outputs": [],
      "source": [
        "# While loop\n",
        "count = 0\n",
        "while count < 3:\n",
        "    count = count + 1\n",
        "    print(\"count = \", count)"
      ]
    },
    {
      "cell_type": "code",
      "execution_count": null,
      "metadata": {
        "jupyter": {
          "outputs_hidden": false
        },
        "pycharm": {
          "name": "#%%\n"
        },
        "id": "tH5KRyIpk49l"
      },
      "outputs": [],
      "source": [
        "# Combining else with while to execute something after the loop\n",
        "count = 0\n",
        "while count < 3:\n",
        "    count = count + 1\n",
        "    print(\"count = \", count)\n",
        "else:\n",
        "    print(\"In the else. count = \", count)"
      ]
    },
    {
      "cell_type": "markdown",
      "metadata": {
        "pycharm": {
          "name": "#%% md\n"
        },
        "id": "bslPsDJFk49l"
      },
      "source": [
        "[`range()`](https://docs.python.org/3/library/functions.html#func-range) is\n",
        "a built-in generator function that is used to generate numbers in a given range.\n",
        "\n",
        "It takes up to 3 parameter `start`, `stop`, `step`.\n",
        "If not given,`start` defaults to `0`, and `step` to `1`.\n",
        "\n",
        "Examples:\n",
        "- `range(0, 10, 1)` -> `[0, 1, 2, ..., 9]`. note that `stop` isn't included.\n",
        "- `range(0, 10, 2)` -> `[0, 2, 4, 6, 8]`. even numbers.\n",
        "- `range(0, 10)` -> Only `start` and `stop`. same as `range(0, 10, 1)`.\n",
        "- `range(10)` -> Only `stop`. same as `range(0, 10, 1)`.\n",
        "- `range(10, 0, -1)` -> `[10, 9, 8, ..., 1]`."
      ]
    },
    {
      "cell_type": "code",
      "execution_count": null,
      "metadata": {
        "jupyter": {
          "outputs_hidden": false
        },
        "pycharm": {
          "name": "#%%\n"
        },
        "id": "kxV0rURAk49m"
      },
      "outputs": [],
      "source": [
        "# range for loop\n",
        "my_list = [10, 20, 30, 40]\n",
        "print('looping over list elements by index using \"rang()\"')\n",
        "for i in range(0, len(my_list)):\n",
        "    print(my_list[i])\n",
        "\n",
        "print('looping over list elements using \"in\"')\n",
        "for element in my_list:\n",
        "    print(element)"
      ]
    },
    {
      "cell_type": "code",
      "execution_count": null,
      "metadata": {
        "jupyter": {
          "outputs_hidden": false
        },
        "pycharm": {
          "name": "#%%\n"
        },
        "id": "UczSqX1zk49m"
      },
      "outputs": [],
      "source": [
        "my_list = [10, 20, 30, 40, 50, 60, 70, 80]\n",
        "print('looping over list elements by index using \"rang()\"')\n",
        "for i in range(0, len(my_list)):\n",
        "    if i == 5:  # break the loop after 5 iterations\n",
        "        break\n",
        "    elif i%2 == 1:  # skipping odd indices\n",
        "        continue\n",
        "    print(my_list[i])"
      ]
    },
    {
      "cell_type": "markdown",
      "metadata": {
        "id": "md3WuiXNk49m"
      },
      "source": [
        "### Task 2:\n",
        "Make a list that have all the integers from 0 to 99 that is divisible by 4 but\n",
        "not divisible by 6.\n",
        "\n",
        "Hint: `my_list.append(a)` add `a` to the end of the `my_list`."
      ]
    },
    {
      "cell_type": "code",
      "execution_count": null,
      "metadata": {
        "jupyter": {
          "outputs_hidden": false
        },
        "pycharm": {
          "name": "#%%\n"
        },
        "id": "Fq9uqf_9k49m"
      },
      "outputs": [],
      "source": [
        "# Solve here\n"
      ]
    },
    {
      "cell_type": "markdown",
      "metadata": {
        "pycharm": {
          "name": "#%% md\n"
        },
        "id": "iJidtQ6uk49m"
      },
      "source": [
        "## Functions\n",
        "Functions is very useful to use a block of code multiple time."
      ]
    },
    {
      "cell_type": "code",
      "execution_count": null,
      "metadata": {
        "jupyter": {
          "outputs_hidden": false
        },
        "pycharm": {
          "name": "#%%\n"
        },
        "id": "JDgMx9EAk49n"
      },
      "outputs": [],
      "source": [
        "def my_function_name():\n",
        "    print('Hi from a function')\n",
        "\n",
        "my_function_name()\n",
        "my_function_name()"
      ]
    },
    {
      "cell_type": "code",
      "execution_count": null,
      "metadata": {
        "jupyter": {
          "outputs_hidden": false
        },
        "pycharm": {
          "name": "#%%\n"
        },
        "id": "FA2CtMFFk49n"
      },
      "outputs": [],
      "source": [
        "def double(x):\n",
        "    return x * 2\n",
        "\n",
        "print(double(3))"
      ]
    },
    {
      "cell_type": "markdown",
      "metadata": {
        "pycharm": {
          "name": "#%% md\n"
        },
        "id": "nmTh9lruk49n"
      },
      "source": [
        "## Classes\n",
        "Python is OOP langauge. Here are how classes are used\n",
        "\n",
        "[Reference](https://www.geeksforgeeks.org/python-classes-and-objects/)"
      ]
    },
    {
      "cell_type": "code",
      "execution_count": null,
      "metadata": {
        "jupyter": {
          "outputs_hidden": false
        },
        "pycharm": {
          "name": "#%%\n"
        },
        "id": "Il7GrWSCk49n"
      },
      "outputs": [],
      "source": [
        "class Dog:\n",
        "\n",
        "    # A simple class\n",
        "    # attribute\n",
        "    attr1 = \"mammal\"\n",
        "    attr2 = \"dog\"\n",
        "\n",
        "    # A sample method\n",
        "    def fun(self):\n",
        "        print(\"I'm a\", self.attr1)\n",
        "        print(\"I'm a\", self.attr2)\n",
        "\n",
        "# Object instantiation\n",
        "Rodger = Dog()\n",
        "\n",
        "# Accessing class attributes\n",
        "# and method through objects\n",
        "print(Rodger.attr1)\n",
        "Rodger.fun()"
      ]
    },
    {
      "cell_type": "markdown",
      "metadata": {
        "pycharm": {
          "name": "#%% md\n"
        },
        "id": "G-a0yagRk49o"
      },
      "source": [
        "---\n",
        "## Install external modules\n",
        "Python community offers a huge variety of modules to eliminate the need for\n",
        "writing codes from scratch.\n",
        "[pip](https://pypi.org/project/pip/) is a package installer for Python. You\n",
        "can use pip to install packages from the Python Package Index and other indexes.\n",
        "\n",
        "To install a package you can run this command in your terminal:\n",
        "- Unix/macOS: `python3 -m pip install <package name>` or `pip3 install <package name>`\n",
        "- Windows: `py -m pip install <package name>` or `pip install <package name>`\n",
        "\n",
        "[Further reading](https://pip.pypa.io/en/stable/cli/pip_install/)\n",
        "on pip usage and how to write and install requirements files.\n",
        "\n",
        "You can also run terminal command from your jupyter notebook using\n",
        "[magic commands](https://ipython.readthedocs.io/en/stable/interactive/magics.html)\n",
        "\n",
        "To do so, you put `!` before your command so that jupyter understand executing\n",
        "it in the terminal."
      ]
    },
    {
      "cell_type": "code",
      "execution_count": null,
      "metadata": {
        "jupyter": {
          "outputs_hidden": false
        },
        "pycharm": {
          "name": "#%%\n"
        },
        "id": "KTHClvLKk49o"
      },
      "outputs": [],
      "source": [
        "# https://ipython.readthedocs.io/en/stable/interactive/magics.html#magic-sx\n",
        "!pip install numpy"
      ]
    },
    {
      "cell_type": "markdown",
      "metadata": {
        "collapsed": false,
        "jupyter": {
          "outputs_hidden": false
        },
        "pycharm": {
          "name": "#%% md\n"
        },
        "id": "kyv2YjAuk49o"
      },
      "source": [
        "---\n",
        "## Numpy\n",
        "While python is a powerful, it is very slow compared to C/C++ since it's and\n",
        "interpreted language with dynamic typing. Numpy is python library that is\n",
        "implemented in C/C++. giving us the ease of development of python with the\n",
        "performance of C. depending on the operation numpy could be up to 100x faster.\n",
        "Moreover, it has various functions to perform linear algebra and array operations.\n",
        "\n",
        "[Reference](https://numpy.org/doc/stable/user/absolute_beginners.html)"
      ]
    },
    {
      "cell_type": "code",
      "metadata": {
        "pycharm": {
          "name": "#%%\n"
        },
        "id": "IRYYQ-OMk49o"
      },
      "source": [
        "import numpy as np"
      ],
      "execution_count": null,
      "outputs": []
    },
    {
      "cell_type": "code",
      "execution_count": null,
      "metadata": {
        "jupyter": {
          "outputs_hidden": false
        },
        "pycharm": {
          "name": "#%%\n"
        },
        "id": "uUtvPAWyk49p"
      },
      "outputs": [],
      "source": [
        "my_np_list = np.random.randint(low=-100, high=100, size=20)\n",
        "print(my_np_list)"
      ]
    },
    {
      "cell_type": "markdown",
      "metadata": {
        "id": "DA3S10Rkk49p"
      },
      "source": [
        "Here is some of the most common used function"
      ]
    },
    {
      "cell_type": "code",
      "execution_count": null,
      "metadata": {
        "jupyter": {
          "outputs_hidden": false
        },
        "pycharm": {
          "name": "#%%\n"
        },
        "id": "dgRM0wX1k49p"
      },
      "outputs": [],
      "source": [
        "print('shape:', my_np_list.shape)\n",
        "print('sum:', my_np_list.sum())\n",
        "print('min:', my_np_list.min())\n",
        "print('max:', my_np_list.max())\n",
        "print('abs:', np.abs(my_np_list))\n",
        "my_np_list.sort()\n",
        "print('after .sort():', my_np_list)\n",
        "print('doubling the array', my_np_list * 2) # broadcasting"
      ]
    },
    {
      "cell_type": "markdown",
      "metadata": {
        "collapsed": false,
        "jupyter": {
          "outputs_hidden": false
        },
        "pycharm": {
          "name": "#%% md\n"
        },
        "id": "6w56U5zBk49p"
      },
      "source": [
        "### Task 3:\n",
        "Print the mean, variance and standard deviation of `my_np_list`"
      ]
    },
    {
      "cell_type": "code",
      "execution_count": null,
      "metadata": {
        "jupyter": {
          "outputs_hidden": false
        },
        "pycharm": {
          "name": "#%%\n"
        },
        "id": "0fHz-j2Ek49q"
      },
      "outputs": [],
      "source": [
        "# Solve here\n"
      ]
    },
    {
      "cell_type": "code",
      "metadata": {
        "pycharm": {
          "name": "#%%\n"
        },
        "id": "I4VqhITLk49q"
      },
      "source": [
        "# 2D arrays\n",
        "x = np.array(\n",
        "    [\n",
        "        [1, 2, 3, 4],\n",
        "        [5, 6, 7, 8],\n",
        "        [9, 10, 11, 12],\n",
        "    ],\n",
        "    np.int32,\n",
        ")\n",
        "print(x)\n",
        "print(f'{x.shape = }')\n",
        "print('accessing element:', x[1, 2])\n",
        "print('slice of an array:', x[0:2, 2:3])\n",
        "print('row:', x[0, :])\n",
        "print('column:', x[:, 0])"
      ],
      "execution_count": null,
      "outputs": []
    },
    {
      "cell_type": "code",
      "execution_count": null,
      "metadata": {
        "jupyter": {
          "outputs_hidden": false
        },
        "pycharm": {
          "name": "#%%\n"
        },
        "id": "5GWl1sXuk49q"
      },
      "outputs": [],
      "source": [
        "# speed\n",
        "from time import time\n",
        "\n",
        "st = time()\n",
        "my_list = [1] * 10000000\n",
        "sum(my_list)\n",
        "list_time = time()-st\n",
        "\n",
        "st = time()\n",
        "my_np_list = np.ones(10000000)\n",
        "my_np_list.sum()\n",
        "np_time = time()-st\n",
        "\n",
        "print('numpy is', list_time/np_time, ' times faster than list')"
      ]
    },
    {
      "cell_type": "markdown",
      "metadata": {
        "collapsed": false,
        "jupyter": {
          "outputs_hidden": false
        },
        "pycharm": {
          "name": "#%% md\n"
        },
        "id": "GrJ6CS5Yk49r"
      },
      "source": [
        "### Task 4\n",
        "Install the following packages: `matplotlib`, `pandas`, `seaborn` and `sklearn`"
      ]
    },
    {
      "cell_type": "code",
      "execution_count": null,
      "metadata": {
        "jupyter": {
          "outputs_hidden": false
        },
        "pycharm": {
          "name": "#%%\n"
        },
        "id": "Q2tPsb38k49r"
      },
      "outputs": [],
      "source": [
        "# Solve here\n"
      ]
    },
    {
      "cell_type": "markdown",
      "metadata": {
        "id": "ml1YEhXek49s"
      },
      "source": [
        "---\n",
        "## Matplotlib\n",
        "Matplotlib is a comprehensive library for creating static, animated, and\n",
        "interactive visualizations in Python.\n",
        "\n",
        "[Reference](https://matplotlib.org/stable/tutorials/introductory/pyplot.html#sphx-glr-tutorials-introductory-pyplot-py)"
      ]
    },
    {
      "cell_type": "code",
      "execution_count": null,
      "metadata": {
        "jupyter": {
          "outputs_hidden": false
        },
        "pycharm": {
          "name": "#%%\n"
        },
        "id": "F1VIDjvSk49s"
      },
      "outputs": [],
      "source": [
        "import matplotlib.pyplot as plt\n",
        "%matplotlib inline # to plot in side the notebook"
      ]
    },
    {
      "cell_type": "code",
      "execution_count": null,
      "metadata": {
        "jupyter": {
          "outputs_hidden": false
        },
        "pycharm": {
          "name": "#%%\n"
        },
        "id": "WbxDleLjk49s"
      },
      "outputs": [],
      "source": [
        "# Line plot\n",
        "t = np.arange(0.0, 2.0, 0.01)\n",
        "s = 1 + np.sin(2 * np.pi * t)\n",
        "\n",
        "fig, ax = plt.subplots()\n",
        "ax.plot(t, s)\n",
        "\n",
        "ax.set(xlabel='Hours studied (s)', ylabel='voltage (mV)',\n",
        "       title='Change in volt over time')\n",
        "ax.grid()\n",
        "plt.show() # Show the plot"
      ]
    },
    {
      "cell_type": "code",
      "execution_count": null,
      "metadata": {
        "jupyter": {
          "outputs_hidden": false
        },
        "pycharm": {
          "name": "#%%\n"
        },
        "id": "CpYkxlTek49s"
      },
      "outputs": [],
      "source": [
        "# different plots for categorical data\n",
        "names = ['group_a', 'group_b', 'group_c']\n",
        "values = [1, 10, 100]\n",
        "\n",
        "plt.figure(figsize=(9, 5))\n",
        "\n",
        "plt.subplot(131)  # To creat 1 by 3 grid and plot in the 1st subplot\n",
        "plt.bar(names, values)\n",
        "plt.subplot(132)  # plot in the 2nd subplot\n",
        "plt.scatter(names, values)\n",
        "plt.subplot(133)  # plot in the 3nd subplot\n",
        "plt.plot(names, values)\n",
        "plt.suptitle('Categorical Plotting')\n",
        "plt.show()"
      ]
    },
    {
      "cell_type": "markdown",
      "metadata": {
        "collapsed": false,
        "jupyter": {
          "outputs_hidden": false
        },
        "pycharm": {
          "name": "#%% md\n"
        },
        "id": "uVQjUimUk49t"
      },
      "source": [
        "---\n",
        "## Pandas\n",
        "[Pandas](https://pandas.pydata.org/docs/) is a fast, powerful, flexible and\n",
        "easy to use open source data analysis and manipulation tool.\n"
      ]
    },
    {
      "cell_type": "code",
      "execution_count": null,
      "metadata": {
        "jupyter": {
          "outputs_hidden": false
        },
        "pycharm": {
          "name": "#%%\n"
        },
        "id": "E2B6DYxTk49t"
      },
      "outputs": [],
      "source": [
        "import pandas as pd\n"
      ]
    },
    {
      "cell_type": "code",
      "execution_count": null,
      "metadata": {
        "jupyter": {
          "outputs_hidden": false
        },
        "pycharm": {
          "name": "#%%\n"
        },
        "id": "B8ZBgTESk49t"
      },
      "outputs": [],
      "source": [
        "df = pd.read_csv('petrol_consumption.csv')\n",
        "df.info()"
      ]
    },
    {
      "cell_type": "code",
      "execution_count": null,
      "metadata": {
        "jupyter": {
          "outputs_hidden": false
        },
        "pycharm": {
          "name": "#%%\n"
        },
        "id": "eoWZ5WTZk49u"
      },
      "outputs": [],
      "source": [
        "df.head(5)"
      ]
    },
    {
      "cell_type": "code",
      "execution_count": null,
      "metadata": {
        "jupyter": {
          "outputs_hidden": false
        },
        "pycharm": {
          "name": "#%%\n"
        },
        "id": "x1Adhdrwk49u"
      },
      "outputs": [],
      "source": [
        "df.describe()\n"
      ]
    },
    {
      "cell_type": "code",
      "execution_count": null,
      "metadata": {
        "jupyter": {
          "outputs_hidden": false
        },
        "pycharm": {
          "name": "#%%\n"
        },
        "id": "jyJy6A4Qk49u"
      },
      "outputs": [],
      "source": [
        "# access a columns\n",
        "print(df['Petrol_tax'].head())\n",
        "print(df[['Average_income', 'Paved_Highways']].head())"
      ]
    },
    {
      "cell_type": "code",
      "metadata": {
        "pycharm": {
          "name": "#%%\n"
        },
        "id": "JH5YGDr2k49v"
      },
      "source": [
        "# access a rows\n",
        "df.iloc[[1, 2, 4]]"
      ],
      "execution_count": null,
      "outputs": []
    },
    {
      "cell_type": "code",
      "execution_count": null,
      "metadata": {
        "jupyter": {
          "outputs_hidden": false
        },
        "pycharm": {
          "name": "#%%\n"
        },
        "id": "mxPxiSX1k49v"
      },
      "outputs": [],
      "source": [
        "# dropping a column\n",
        "new_df = df.drop(['Average_income', 'Paved_Highways'], axis=1)\n",
        "new_df.head()"
      ]
    },
    {
      "cell_type": "code",
      "metadata": {
        "pycharm": {
          "name": "#%%\n"
        },
        "id": "aaVTihajk49v"
      },
      "source": [
        "# Drop a row by index\n",
        "new_df = df.drop([0, 1])\n",
        "new_df.head()"
      ],
      "execution_count": null,
      "outputs": []
    },
    {
      "cell_type": "code",
      "execution_count": null,
      "metadata": {
        "jupyter": {
          "outputs_hidden": false
        },
        "pycharm": {
          "name": "#%%\n"
        },
        "id": "1Fd8SOY_k49v"
      },
      "outputs": [],
      "source": [
        "# pandas support many operations similar to numpy\n",
        "print('Sum of columns\\n', df.sum(), '\\n')\n",
        "print('Sum of all the data frame\\n', df.sum().sum(), '\\n')\n",
        "print('Mean of columns\\n', df.mean(), '\\n')\n",
        "print('Converting dataframe to numpy array\\n', type(df.to_numpy()))"
      ]
    },
    {
      "cell_type": "markdown",
      "metadata": {
        "pycharm": {
          "name": "#%% md\n"
        },
        "id": "zE0734pnk49v"
      },
      "source": [
        "---\n",
        "## Seaborn\n",
        "Seaborn is a Python data visualization library based on matplotlib. It provides\n",
        "a high-level interface for drawing attractive and informative statistical graphics.\n",
        "Usually used with pandas.\n",
        "\n",
        "[Reference](https://seaborn.pydata.org/examples/index.html)\n",
        "[Examples](https://www.geeksforgeeks.org/python-seaborn-tutorial/)"
      ]
    },
    {
      "cell_type": "code",
      "execution_count": null,
      "metadata": {
        "jupyter": {
          "outputs_hidden": false
        },
        "pycharm": {
          "name": "#%%\n"
        },
        "id": "yZg9N3Umk49v"
      },
      "outputs": [],
      "source": [
        "import seaborn as sns\n",
        "\n",
        "df = sns.load_dataset('tips')\n",
        "\n",
        "graph = sns.FacetGrid(df, col =\"sex\",  hue =\"day\")\n",
        "graph.map(plt.scatter, \"total_bill\", \"tip\", edgecolor =\"w\").add_legend()\n",
        "\n",
        "plt.show()"
      ]
    },
    {
      "cell_type": "markdown",
      "metadata": {
        "pycharm": {
          "name": "#%% md\n"
        },
        "id": "Yuv-OdF1k49v"
      },
      "source": [
        "---\n",
        "## SKLearn\n",
        "\n",
        "[SKLearn](https://scikit-learn.org/stable/modules/classes.html) is a simple\n",
        "and efficient tools for predictive data analysis.\n",
        "We will use it for classification, regression and clustering algorithms.\n",
        "\n",
        "Usually datasets have two parts, data(or features) and targets(or labels).\n",
        "We train our machine learning model to predict the target of a sample given\n",
        "its features."
      ]
    },
    {
      "cell_type": "code",
      "execution_count": 2,
      "outputs": [
        {
          "output_type": "stream",
          "name": "stdout",
          "text": [
            "Dataset shape: (150, 4), (150,)\n",
            "Example of a sample: features: [5.1 3.5 1.4 0.2], classification: 0\n"
          ]
        }
      ],
      "source": [
        "# sklearn has some datasets inside it to learn and test on them\n",
        "from sklearn import datasets\n",
        "iris = datasets.load_iris()\n",
        "print(f'Dataset shape: {iris.data.shape}, {iris.target.shape}')\n",
        "print(f'Example of a sample: features: {iris.data[0]}, classification: {iris.target[0]}')"
      ],
      "metadata": {
        "pycharm": {
          "name": "#%%\n"
        },
        "id": "VGssQH8Mk49v",
        "outputId": "538488ea-0b0b-4697-83e4-8f1f3e2bde88",
        "colab": {
          "base_uri": "https://localhost:8080/"
        }
      }
    },
    {
      "cell_type": "markdown",
      "source": [
        "SKLearn gives a simple API to build models. Mainly it consists of two steps:\n",
        "- Model creation: where we choose the model and set its parameters\n",
        "- Fitting the data: Where we give our model the training data to learn from\n",
        "- Prediction: where we can predict the label of a sample\n",
        "\n",
        "`svm` is a prediction model(we will study how it works later in the course).\n",
        "\n",
        "Here is an example on how to use an SKLearn model:"
      ],
      "metadata": {
        "collapsed": false,
        "id": "tanI893tk49w"
      }
    },
    {
      "cell_type": "code",
      "execution_count": 3,
      "outputs": [
        {
          "output_type": "stream",
          "name": "stdout",
          "text": [
            "Our prediction [2] True value: [2]\n"
          ]
        }
      ],
      "source": [
        "from sklearn import svm\n",
        "# setting the parameters needed by the algorithm\n",
        "clf = svm.SVC(gamma=0.001, C=100.)\n",
        "# Training on all the data except the last one\n",
        "clf.fit(iris.data[:-1], iris.target[:-1])\n",
        "# predicting the last sample\n",
        "print('Our prediction', clf.predict(iris.data[-1:]), 'True value:', iris.target[-1:])"
      ],
      "metadata": {
        "pycharm": {
          "name": "#%%\n"
        },
        "id": "XR4qHxg8k49w",
        "outputId": "57b8100b-0f48-40a7-9f81-83442091024d",
        "colab": {
          "base_uri": "https://localhost:8080/"
        }
      }
    },
    {
      "cell_type": "markdown",
      "source": [
        "---\n",
        "# Self-Practice\n",
        "Using the ires dataset used in the lap, plot each feature and the target data\n",
        "using matplotlib.\n",
        "Write your observation on the relationship between the target and each feature.\n",
        "What do you think is the most important features? Why?"
      ],
      "metadata": {
        "collapsed": false,
        "id": "JIk2KBKIk49w"
      }
    },
    {
      "cell_type": "code",
      "source": [
        "import matplotlib.pyplot as plt\n",
        "\n",
        "\n",
        "fig, axes = plt.subplots(2, 2, figsize=(10, 10))\n",
        "for i in range(iris.data.shape[1]):\n",
        "    axes[i // 2][i % 2].plot(iris.data[:, i])\n",
        "    axes[i // 2][i % 2].plot(iris.target)"
      ],
      "metadata": {
        "id": "rRBE_wXalh2U",
        "outputId": "9a73edfb-59ab-41ea-a1c0-b90a9d4916da",
        "colab": {
          "base_uri": "https://localhost:8080/",
          "height": 592
        }
      },
      "execution_count": 9,
      "outputs": [
        {
          "output_type": "display_data",
          "data": {
            "text/plain": [
              "<Figure size 720x720 with 4 Axes>"
            ],
            "image/png": "[encoded data removed]"
          },
          "metadata": {
            "needs_background": "light"
          }
        }
      ]
    }
  ],
  "metadata": {
    "kernelspec": {
      "display_name": "Python 3",
      "language": "python",
      "name": "python3"
    },
    "language_info": {
      "codemirror_mode": {
        "name": "ipython",
        "version": 3
      },
      "file_extension": ".py",
      "mimetype": "text/x-python",
      "name": "python",
      "nbconvert_exporter": "python",
      "pygments_lexer": "ipython3",
      "version": "3.8.3"
    },
    "colab": {
      "provenance": []
    }
  },
  "nbformat": 4,
  "nbformat_minor": 0
}