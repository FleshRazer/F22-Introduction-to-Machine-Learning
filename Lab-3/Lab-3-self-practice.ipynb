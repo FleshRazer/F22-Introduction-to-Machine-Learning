{
  "cells": [
    {
      "cell_type": "code",
      "source": [
        "!git clone https://github.com/FleshRazer/F22-Introduction-to-Machine-Learning.git"
      ],
      "metadata": {
        "colab": {
          "base_uri": "https://localhost:8080/"
        },
        "id": "Dwmfgr8_L3H0",
        "outputId": "24503313-45e6-4fac-a59a-197ee7803086"
      },
      "execution_count": 2,
      "outputs": [
        {
          "output_type": "stream",
          "name": "stdout",
          "text": [
            "Cloning into 'F22-Introduction-to-Machine-Learning'...\n",
            "remote: Enumerating objects: 118, done.\u001b[K\n",
            "remote: Counting objects: 100% (118/118), done.\u001b[K\n",
            "remote: Compressing objects: 100% (97/97), done.\u001b[K\n",
            "remote: Total 118 (delta 31), reused 90 (delta 18), pack-reused 0\u001b[K\n",
            "Receiving objects: 100% (118/118), 1.97 MiB | 17.27 MiB/s, done.\n",
            "Resolving deltas: 100% (31/31), done.\n"
          ]
        }
      ]
    },
    {
      "cell_type": "markdown",
      "metadata": {
        "id": "-UM3peU5LDfx"
      },
      "source": [
        "### Lab-3 : Self-Practice\n",
        "\n",
        "#### In this week, your self-practice task will consist to analyze the impact of class imballance on the performance of the logistic regression model.\n",
        "\n",
        "#### Class imbalance is very common in real life. For example, in a classification problem to predict whether a person has a certain very rare disease, the dataset will always contain more negative samples than positive ones. This situation can have a significant impact on the performance of the model. You will analyze this situation in the case of the Titanic dataset used in the lab."
      ]
    },
    {
      "cell_type": "markdown",
      "metadata": {
        "id": "SSSjavP8LDfy"
      },
      "source": [
        "### 1. Load the titanic dataset and <b>PLOT</b> the proportion of positive and negative samples (survived vs non survived)"
      ]
    },
    {
      "cell_type": "code",
      "execution_count": 3,
      "metadata": {
        "colab": {
          "base_uri": "https://localhost:8080/",
          "height": 204
        },
        "id": "OJyy7QMjLDfy",
        "outputId": "dcc5d40f-f68b-4d48-f5c2-811bf5e92a22"
      },
      "outputs": [
        {
          "output_type": "execute_result",
          "data": {
            "text/plain": [
              "   survived  pclass     sex    age  sibsp  parch      fare embarked\n",
              "0         1       1  female  29.00      0      0  211.3375        S\n",
              "1         1       1    male   0.92      1      2  151.5500        S\n",
              "2         0       1  female   2.00      1      2  151.5500        S\n",
              "3         0       1    male  30.00      1      2  151.5500        S\n",
              "4         0       1  female  25.00      1      2  151.5500        S"
            ],
            "text/html": [
              "\n",
              "  <div id=\"df-0006d1b7-0224-4577-8f47-064333c53068\">\n",
              "    <div class=\"colab-df-container\">\n",
              "      <div>\n",
              "<style scoped>\n",
              "    .dataframe tbody tr th:only-of-type {\n",
              "        vertical-align: middle;\n",
              "    }\n",
              "\n",
              "    .dataframe tbody tr th {\n",
              "        vertical-align: top;\n",
              "    }\n",
              "\n",
              "    .dataframe thead th {\n",
              "        text-align: right;\n",
              "    }\n",
              "</style>\n",
              "<table border=\"1\" class=\"dataframe\">\n",
              "  <thead>\n",
              "    <tr style=\"text-align: right;\">\n",
              "      <th></th>\n",
              "      <th>survived</th>\n",
              "      <th>pclass</th>\n",
              "      <th>sex</th>\n",
              "      <th>age</th>\n",
              "      <th>sibsp</th>\n",
              "      <th>parch</th>\n",
              "      <th>fare</th>\n",
              "      <th>embarked</th>\n",
              "    </tr>\n",
              "  </thead>\n",
              "  <tbody>\n",
              "    <tr>\n",
              "      <th>0</th>\n",
              "      <td>1</td>\n",
              "      <td>1</td>\n",
              "      <td>female</td>\n",
              "      <td>29.00</td>\n",
              "      <td>0</td>\n",
              "      <td>0</td>\n",
              "      <td>211.3375</td>\n",
              "      <td>S</td>\n",
              "    </tr>\n",
              "    <tr>\n",
              "      <th>1</th>\n",
              "      <td>1</td>\n",
              "      <td>1</td>\n",
              "      <td>male</td>\n",
              "      <td>0.92</td>\n",
              "      <td>1</td>\n",
              "      <td>2</td>\n",
              "      <td>151.5500</td>\n",
              "      <td>S</td>\n",
              "    </tr>\n",
              "    <tr>\n",
              "      <th>2</th>\n",
              "      <td>0</td>\n",
              "      <td>1</td>\n",
              "      <td>female</td>\n",
              "      <td>2.00</td>\n",
              "      <td>1</td>\n",
              "      <td>2</td>\n",
              "      <td>151.5500</td>\n",
              "      <td>S</td>\n",
              "    </tr>\n",
              "    <tr>\n",
              "      <th>3</th>\n",
              "      <td>0</td>\n",
              "      <td>1</td>\n",
              "      <td>male</td>\n",
              "      <td>30.00</td>\n",
              "      <td>1</td>\n",
              "      <td>2</td>\n",
              "      <td>151.5500</td>\n",
              "      <td>S</td>\n",
              "    </tr>\n",
              "    <tr>\n",
              "      <th>4</th>\n",
              "      <td>0</td>\n",
              "      <td>1</td>\n",
              "      <td>female</td>\n",
              "      <td>25.00</td>\n",
              "      <td>1</td>\n",
              "      <td>2</td>\n",
              "      <td>151.5500</td>\n",
              "      <td>S</td>\n",
              "    </tr>\n",
              "  </tbody>\n",
              "</table>\n",
              "</div>\n",
              "      <button class=\"colab-df-convert\" onclick=\"convertToInteractive('df-0006d1b7-0224-4577-8f47-064333c53068')\"\n",
              "              title=\"Convert this dataframe to an interactive table.\"\n",
              "              style=\"display:none;\">\n",
              "        \n",
              "  <svg xmlns=\"http://www.w3.org/2000/svg\" height=\"24px\"viewBox=\"0 0 24 24\"\n",
              "       width=\"24px\">\n",
              "    <path d=\"M0 0h24v24H0V0z\" fill=\"none\"/>\n",
              "    <path d=\"M18.56 5.44l.94 2.06.94-2.06 2.06-.94-2.06-.94-.94-2.06-.94 2.06-2.06.94zm-11 1L8.5 8.5l.94-2.06 2.06-.94-2.06-.94L8.5 2.5l-.94 2.06-2.06.94zm10 10l.94 2.06.94-2.06 2.06-.94-2.06-.94-.94-2.06-.94 2.06-2.06.94z\"/><path d=\"M17.41 7.96l-1.37-1.37c-.4-.4-.92-.59-1.43-.59-.52 0-1.04.2-1.43.59L10.3 9.45l-7.72 7.72c-.78.78-.78 2.05 0 2.83L4 21.41c.39.39.9.59 1.41.59.51 0 1.02-.2 1.41-.59l7.78-7.78 2.81-2.81c.8-.78.8-2.07 0-2.86zM5.41 20L4 18.59l7.72-7.72 1.47 1.35L5.41 20z\"/>\n",
              "  </svg>\n",
              "      </button>\n",
              "      \n",
              "  <style>\n",
              "    .colab-df-container {\n",
              "      display:flex;\n",
              "      flex-wrap:wrap;\n",
              "      gap: 12px;\n",
              "    }\n",
              "\n",
              "    .colab-df-convert {\n",
              "      background-color: #E8F0FE;\n",
              "      border: none;\n",
              "      border-radius: 50%;\n",
              "      cursor: pointer;\n",
              "      display: none;\n",
              "      fill: #1967D2;\n",
              "      height: 32px;\n",
              "      padding: 0 0 0 0;\n",
              "      width: 32px;\n",
              "    }\n",
              "\n",
              "    .colab-df-convert:hover {\n",
              "      background-color: #E2EBFA;\n",
              "      box-shadow: 0px 1px 2px rgba(60, 64, 67, 0.3), 0px 1px 3px 1px rgba(60, 64, 67, 0.15);\n",
              "      fill: #174EA6;\n",
              "    }\n",
              "\n",
              "    [theme=dark] .colab-df-convert {\n",
              "      background-color: #3B4455;\n",
              "      fill: #D2E3FC;\n",
              "    }\n",
              "\n",
              "    [theme=dark] .colab-df-convert:hover {\n",
              "      background-color: #434B5C;\n",
              "      box-shadow: 0px 1px 3px 1px rgba(0, 0, 0, 0.15);\n",
              "      filter: drop-shadow(0px 1px 2px rgba(0, 0, 0, 0.3));\n",
              "      fill: #FFFFFF;\n",
              "    }\n",
              "  </style>\n",
              "\n",
              "      <script>\n",
              "        const buttonEl =\n",
              "          document.querySelector('#df-0006d1b7-0224-4577-8f47-064333c53068 button.colab-df-convert');\n",
              "        buttonEl.style.display =\n",
              "          google.colab.kernel.accessAllowed ? 'block' : 'none';\n",
              "\n",
              "        async function convertToInteractive(key) {\n",
              "          const element = document.querySelector('#df-0006d1b7-0224-4577-8f47-064333c53068');\n",
              "          const dataTable =\n",
              "            await google.colab.kernel.invokeFunction('convertToInteractive',\n",
              "                                                     [key], {});\n",
              "          if (!dataTable) return;\n",
              "\n",
              "          const docLinkHtml = 'Like what you see? Visit the ' +\n",
              "            '<a target=\"_blank\" href=https://colab.research.google.com/notebooks/data_table.ipynb>data table notebook</a>'\n",
              "            + ' to learn more about interactive tables.';\n",
              "          element.innerHTML = '';\n",
              "          dataTable['output_type'] = 'display_data';\n",
              "          await google.colab.output.renderOutput(dataTable, element);\n",
              "          const docLink = document.createElement('div');\n",
              "          docLink.innerHTML = docLinkHtml;\n",
              "          element.appendChild(docLink);\n",
              "        }\n",
              "      </script>\n",
              "    </div>\n",
              "  </div>\n",
              "  "
            ]
          },
          "metadata": {},
          "execution_count": 3
        }
      ],
      "source": [
        "# Load the dataset and plot (barplot) proportion of each class\n",
        "\n",
        "import pandas as pd\n",
        "\n",
        "data = pd.read_csv('F22-Introduction-to-Machine-Learning/Lab-3/titanic.csv')\n",
        "data = data.drop('name', axis='columns')\n",
        "\n",
        "data.head(5)"
      ]
    },
    {
      "cell_type": "code",
      "source": [
        "import matplotlib.pyplot as plt\n",
        "\n",
        "label = ['non survived', 'survived']\n",
        "height = [data.loc[lambda df: df['survived'] == 0, 'survived'].count(),\n",
        "          data.loc[lambda df: df['survived'] == 1, 'survived'].count()]\n",
        "\n",
        "plt.figure(figsize=(5, 5))\n",
        "plt.bar(label, height)\n",
        "plt.show()"
      ],
      "metadata": {
        "colab": {
          "base_uri": "https://localhost:8080/",
          "height": 320
        },
        "id": "yPIYm6XuNUyj",
        "outputId": "af3719a4-6dd0-4f67-f0a9-a93224f4fe7f"
      },
      "execution_count": 4,
      "outputs": [
        {
          "output_type": "display_data",
          "data": {
            "text/plain": [
              "<Figure size 360x360 with 1 Axes>"
            ],
            "image/png": "[encoded data removed]"
          },
          "metadata": {
            "needs_background": "light"
          }
        }
      ]
    },
    {
      "cell_type": "markdown",
      "metadata": {
        "id": "OQJVc6_4LDfz"
      },
      "source": [
        "#### Preprocess the data as it has been done in the lab, feel free to adapt"
      ]
    },
    {
      "cell_type": "code",
      "execution_count": 5,
      "metadata": {
        "colab": {
          "base_uri": "https://localhost:8080/"
        },
        "id": "BqjWqcGvLDfz",
        "outputId": "2b386871-b044-4427-86f1-2bd1f66794e1"
      },
      "outputs": [
        {
          "output_type": "execute_result",
          "data": {
            "text/plain": [
              "(1309, 12)"
            ]
          },
          "metadata": {},
          "execution_count": 5
        }
      ],
      "source": [
        "from sklearn.impute import SimpleImputer\n",
        "from sklearn.preprocessing import OneHotEncoder\n",
        "from sklearn.preprocessing import MinMaxScaler\n",
        "from sklearn.compose import make_column_transformer\n",
        "from sklearn.pipeline import make_pipeline\n",
        "\n",
        "\n",
        "numeric_features = ['age', 'sibsp', 'parch', 'fare']\n",
        "numeric_transformer = make_pipeline(\n",
        "    SimpleImputer(strategy='median'),\n",
        "    MinMaxScaler(),\n",
        ")\n",
        "\n",
        "categorical_features = ['embarked', 'sex', 'pclass']\n",
        "categorical_transformer = make_pipeline(\n",
        "    SimpleImputer(strategy='most_frequent'),\n",
        "    OneHotEncoder(),\n",
        ")\n",
        "\n",
        "preprocessor = make_column_transformer(\n",
        "    (numeric_transformer, numeric_features),\n",
        "    (categorical_transformer, categorical_features),\n",
        ")\n",
        "\n",
        "preprocessor.fit_transform(data).shape"
      ]
    },
    {
      "cell_type": "markdown",
      "metadata": {
        "id": "KLZBt_6sLDfz"
      },
      "source": [
        "## 2. Impact of class imballance. \n",
        "##### Now, you will `artificially` imbalance the dataset. From the original dataset, create different dataset with the following class representations (drop samples from one class): \n",
        "##### 1. 20% vs 80%\n",
        "##### 2. 30% vs 70%\n",
        "##### 3. 40% vs 60%\n",
        "\n",
        "## Split each data into train and test set as in the lab; train logistic regression model for each setting and report (PLOT) the accuracy, precision, and recall of each model"
      ]
    },
    {
      "cell_type": "code",
      "execution_count": 6,
      "metadata": {
        "colab": {
          "base_uri": "https://localhost:8080/",
          "height": 387
        },
        "id": "wlInabK3LDf0",
        "outputId": "22c98e1f-b9ad-4cff-dcdd-0beacedb9732"
      },
      "outputs": [
        {
          "output_type": "stream",
          "name": "stdout",
          "text": [
            "data_2t8 height[0].frac=0.8002 height[1].frac=0.1998\n",
            "data_3t7 height[0].frac=0.7004 height[1].frac=0.2996\n",
            "data_4t6 height[0].frac=0.6000 height[1].frac=0.4000\n"
          ]
        },
        {
          "output_type": "display_data",
          "data": {
            "text/plain": [
              "<Figure size 1080x360 with 3 Axes>"
            ],
            "image/png": "[encoded data removed]"
          },
          "metadata": {
            "needs_background": "light"
          }
        }
      ],
      "source": [
        "# Balancing dataset\n",
        "s_df = data.loc[lambda df: df['survived'] == 0, :]  # survived\n",
        "d_df = data.loc[lambda df: df['survived'] == 1, :]  # non survived\n",
        "\n",
        "data_2t8 = d_df.sample(2 * s_df.shape[0] // 8).append(s_df)\n",
        "data_3t7 = d_df.sample(3 * s_df.shape[0] // 7).append(s_df)\n",
        "data_4t6 = s_df.sample(6 * d_df.shape[0] // 4).append(d_df)\n",
        "dfs = {'data_2t8': data_2t8, 'data_3t7': data_3t7, 'data_4t6': data_4t6}\n",
        "\n",
        "fig, axes = plt.subplots(1, 3, figsize=(15, 5))\n",
        "for i, (name, df) in enumerate(dfs.items()):\n",
        "    label = ['non survived', 'survived']\n",
        "    height = [df.loc[lambda df: df['survived'] == 0, 'survived'].count(),\n",
        "              df.loc[lambda df: df['survived'] == 1, 'survived'].count()]\n",
        "    \n",
        "    axes[i].set_title(name)\n",
        "    axes[i].bar(label, height)\n",
        "\n",
        "    # Validate fractions\n",
        "    print(f'{name} height[0].frac={height[0] / sum(height):.4f} '\n",
        "          f'height[1].frac={height[1] / sum(height):.4f}')\n",
        "\n",
        "fig.show()"
      ]
    },
    {
      "cell_type": "code",
      "source": [
        "# Estimating accuacy, precision, and recall using cross_val_score\n",
        "\n",
        "from numpy import mean\n",
        "from sklearn.model_selection import cross_val_score\n",
        "from sklearn.linear_model import LogisticRegression\n",
        "\n",
        "\n",
        "fig, axes = plt.subplots(1, 3, figsize=(15, 5))\n",
        "axes[0].set_title('accuracy')\n",
        "axes[1].set_title('precision')\n",
        "axes[2].set_title('recall')\n",
        "\n",
        "pipeline = make_pipeline(preprocessor, LogisticRegression())\n",
        "for name, df in dfs.items():\n",
        "    X = df.drop('survived', axis='columns')\n",
        "    y = df.loc[:, 'survived']\n",
        "\n",
        "    accr_scores = cross_val_score(pipeline, X, y, cv=10, scoring='accuracy')\n",
        "    prec_scores = cross_val_score(pipeline, X, y, cv=10, scoring='precision')\n",
        "    recl_scores = cross_val_score(pipeline, X, y, cv=10, scoring='recall')\n",
        "\n",
        "    axes[0].bar(name, mean(accr_scores))\n",
        "    axes[1].bar(name, mean(prec_scores))\n",
        "    axes[2].bar(name, mean(recl_scores))"
      ],
      "metadata": {
        "colab": {
          "base_uri": "https://localhost:8080/",
          "height": 337
        },
        "id": "SYEUm6-W_zyp",
        "outputId": "3a02a8da-cc9e-43a6-9bba-d82201f74b09"
      },
      "execution_count": 8,
      "outputs": [
        {
          "output_type": "display_data",
          "data": {
            "text/plain": [
              "<Figure size 1080x360 with 3 Axes>"
            ],
            "image/png": "[encoded data removed]"
          },
          "metadata": {
            "needs_background": "light"
          }
        }
      ]
    },
    {
      "cell_type": "code",
      "source": [
        "# Estimating accuacy, precision, and recall using sklearn.metrics\n",
        "\n",
        "from sklearn.model_selection import train_test_split\n",
        "from sklearn.metrics import accuracy_score\n",
        "from sklearn.metrics import precision_score\n",
        "from sklearn.metrics import recall_score\n",
        "\n",
        "\n",
        "fig, axes = plt.subplots(1, 3, figsize=(15, 5))\n",
        "axes[0].set_title('accuracy')\n",
        "axes[1].set_title('precision')\n",
        "axes[2].set_title('recall')\n",
        "\n",
        "dfs_test_pred = {}\n",
        "\n",
        "pipeline = make_pipeline(preprocessor, LogisticRegression())\n",
        "for name, df in dfs.items():\n",
        "    X = df.drop('survived', axis='columns')\n",
        "    y = df.loc[:, 'survived']\n",
        "    X_train, X_test, y_train, y_test = train_test_split(X, y)\n",
        "    \n",
        "    pipeline.fit(X_train, y_train)\n",
        "    y_pred = pipeline.predict(X_test)\n",
        "\n",
        "    dfs_test_pred[name] = (y_test, y_pred)\n",
        "\n",
        "    axes[0].bar(name, accuracy_score(y_test, y_pred))\n",
        "    axes[1].bar(name, precision_score(y_test, y_pred))\n",
        "    axes[2].bar(name, recall_score(y_test, y_pred))"
      ],
      "metadata": {
        "colab": {
          "base_uri": "https://localhost:8080/",
          "height": 337
        },
        "id": "ZKNdFqe5VRgg",
        "outputId": "37081fd2-30f5-4926-b2a1-34535c087ac6"
      },
      "execution_count": 9,
      "outputs": [
        {
          "output_type": "display_data",
          "data": {
            "text/plain": [
              "<Figure size 1080x360 with 3 Axes>"
            ],
            "image/png": "[encoded data removed]"
          },
          "metadata": {
            "needs_background": "light"
          }
        }
      ]
    },
    {
      "cell_type": "markdown",
      "metadata": {
        "id": "1KZaGBUvLDf0"
      },
      "source": [
        "## 3. Analyse the class-wise accuracy. \n",
        "#### For each model, plot (bar plots) the class-wise accuracy, i.e., the accuracy for each class."
      ]
    },
    {
      "cell_type": "code",
      "execution_count": 11,
      "metadata": {
        "colab": {
          "base_uri": "https://localhost:8080/",
          "height": 337
        },
        "id": "YZ0XUT8eLDf0",
        "outputId": "1f0f68d3-46bb-4685-b870-3ea671320ca3"
      },
      "outputs": [
        {
          "output_type": "display_data",
          "data": {
            "text/plain": [
              "<Figure size 720x360 with 2 Axes>"
            ],
            "image/png": "[encoded data removed]"
          },
          "metadata": {
            "needs_background": "light"
          }
        }
      ],
      "source": [
        "fig, axes = plt.subplots(1, 2, figsize=(10, 5))\n",
        "axes[0].set_title('non survived')\n",
        "axes[1].set_title('survived')\n",
        "\n",
        "for name, (y_test, y_pred) in dfs_test_pred.items():\n",
        "    s_true = 0\n",
        "    s_total = 0\n",
        "    d_true = 0\n",
        "    d_total = 0\n",
        "\n",
        "    for y_test_val, y_pred_val in zip(y_test, y_pred):\n",
        "        if y_test_val == 0:\n",
        "            if y_pred_val == 0:\n",
        "                d_true += 1\n",
        "            d_total += 1\n",
        "        elif y_test_val == 1:\n",
        "            if y_pred_val == 1:\n",
        "                s_true += 1\n",
        "            s_total += 1\n",
        "    \n",
        "    # y_test_d = y_test.loc[lambda df: df[0] == 0, :]\n",
        "    # print(type(y_pred))\n",
        "    \n",
        "    axes[0].bar(name, d_true / d_total)\n",
        "    axes[1].bar(name, s_true / s_total)\n",
        "    "
      ]
    },
    {
      "cell_type": "markdown",
      "metadata": {
        "id": "MhJE4Eh5LDf0"
      },
      "source": [
        "## 4. Report \n",
        "### Write a small report (few sentences) to discuss from your analysis, the impact of class imballance on logistic model's performance "
      ]
    },
    {
      "cell_type": "markdown",
      "metadata": {
        "id": "_MPqinAELDf0"
      },
      "source": [
        "`Write your report here`"
      ]
    }
  ],
  "metadata": {
    "kernelspec": {
      "display_name": "Python 3.9.7 64-bit",
      "language": "python",
      "name": "python3"
    },
    "language_info": {
      "codemirror_mode": {
        "name": "ipython",
        "version": 3
      },
      "file_extension": ".py",
      "mimetype": "text/x-python",
      "name": "python",
      "nbconvert_exporter": "python",
      "pygments_lexer": "ipython3",
      "version": "3.9.7"
    },
    "orig_nbformat": 4,
    "vscode": {
      "interpreter": {
        "hash": "aee8b7b246df8f9039afb4144a1f6fd8d2ca17a180786b69acc140d282b71a49"
      }
    },
    "colab": {
      "provenance": []
    }
  },
  "nbformat": 4,
  "nbformat_minor": 0
}