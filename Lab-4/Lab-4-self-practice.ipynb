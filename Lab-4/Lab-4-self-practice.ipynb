{
  "cells": [
    {
      "cell_type": "code",
      "source": [
        "!git clone https://github.com/FleshRazer/F22-Introduction-to-Machine-Learning.git"
      ],
      "metadata": {
        "id": "XGL4wMSi4s-4",
        "outputId": "843b7944-64dd-4e13-e859-d453d9b533ee",
        "colab": {
          "base_uri": "https://localhost:8080/"
        }
      },
      "execution_count": 3,
      "outputs": [
        {
          "output_type": "stream",
          "name": "stdout",
          "text": [
            "Cloning into 'F22-Introduction-to-Machine-Learning'...\n",
            "remote: Enumerating objects: 114, done.\u001b[K\n",
            "remote: Counting objects: 100% (114/114), done.\u001b[K\n",
            "remote: Compressing objects: 100% (93/93), done.\u001b[K\n",
            "remote: Total 114 (delta 30), reused 90 (delta 18), pack-reused 0\u001b[K\n",
            "Receiving objects: 100% (114/114), 1.96 MiB | 24.81 MiB/s, done.\n",
            "Resolving deltas: 100% (30/30), done.\n"
          ]
        }
      ]
    },
    {
      "cell_type": "code",
      "source": [
        "import numpy as np\n",
        "import pandas as pd\n",
        "from sklearn.datasets import load_breast_cancer, load_digits\n",
        "from sklearn.impute import SimpleImputer\n",
        "from sklearn.preprocessing import OneHotEncoder, MinMaxScaler\n",
        "from sklearn.model_selection import train_test_split\n",
        "from sklearn.metrics import accuracy_score, classification_report\n",
        "import matplotlib.pyplot as plt"
      ],
      "metadata": {
        "pycharm": {
          "name": "#%%\n"
        },
        "id": "qSe1TE6gMnR-"
      },
      "execution_count": 1,
      "outputs": []
    },
    {
      "cell_type": "markdown",
      "source": [
        "# Naive Bayes"
      ],
      "metadata": {
        "collapsed": false,
        "pycharm": {
          "name": "#%% md\n"
        },
        "id": "DGiBmx35MnSA"
      }
    },
    {
      "cell_type": "code",
      "execution_count": 4,
      "outputs": [
        {
          "output_type": "execute_result",
          "data": {
            "text/plain": [
              "   survived  pclass     sex    age  sibsp  parch      fare embarked\n",
              "0         1       1  female  29.00      0      0  211.3375        S\n",
              "1         1       1    male   0.92      1      2  151.5500        S\n",
              "2         0       1  female   2.00      1      2  151.5500        S\n",
              "3         0       1    male  30.00      1      2  151.5500        S\n",
              "4         0       1  female  25.00      1      2  151.5500        S"
            ],
            "text/html": [
              "\n",
              "  <div id=\"df-3e530e4e-a268-4cbe-ba16-64ab0c206274\">\n",
              "    <div class=\"colab-df-container\">\n",
              "      <div>\n",
              "<style scoped>\n",
              "    .dataframe tbody tr th:only-of-type {\n",
              "        vertical-align: middle;\n",
              "    }\n",
              "\n",
              "    .dataframe tbody tr th {\n",
              "        vertical-align: top;\n",
              "    }\n",
              "\n",
              "    .dataframe thead th {\n",
              "        text-align: right;\n",
              "    }\n",
              "</style>\n",
              "<table border=\"1\" class=\"dataframe\">\n",
              "  <thead>\n",
              "    <tr style=\"text-align: right;\">\n",
              "      <th></th>\n",
              "      <th>survived</th>\n",
              "      <th>pclass</th>\n",
              "      <th>sex</th>\n",
              "      <th>age</th>\n",
              "      <th>sibsp</th>\n",
              "      <th>parch</th>\n",
              "      <th>fare</th>\n",
              "      <th>embarked</th>\n",
              "    </tr>\n",
              "  </thead>\n",
              "  <tbody>\n",
              "    <tr>\n",
              "      <th>0</th>\n",
              "      <td>1</td>\n",
              "      <td>1</td>\n",
              "      <td>female</td>\n",
              "      <td>29.00</td>\n",
              "      <td>0</td>\n",
              "      <td>0</td>\n",
              "      <td>211.3375</td>\n",
              "      <td>S</td>\n",
              "    </tr>\n",
              "    <tr>\n",
              "      <th>1</th>\n",
              "      <td>1</td>\n",
              "      <td>1</td>\n",
              "      <td>male</td>\n",
              "      <td>0.92</td>\n",
              "      <td>1</td>\n",
              "      <td>2</td>\n",
              "      <td>151.5500</td>\n",
              "      <td>S</td>\n",
              "    </tr>\n",
              "    <tr>\n",
              "      <th>2</th>\n",
              "      <td>0</td>\n",
              "      <td>1</td>\n",
              "      <td>female</td>\n",
              "      <td>2.00</td>\n",
              "      <td>1</td>\n",
              "      <td>2</td>\n",
              "      <td>151.5500</td>\n",
              "      <td>S</td>\n",
              "    </tr>\n",
              "    <tr>\n",
              "      <th>3</th>\n",
              "      <td>0</td>\n",
              "      <td>1</td>\n",
              "      <td>male</td>\n",
              "      <td>30.00</td>\n",
              "      <td>1</td>\n",
              "      <td>2</td>\n",
              "      <td>151.5500</td>\n",
              "      <td>S</td>\n",
              "    </tr>\n",
              "    <tr>\n",
              "      <th>4</th>\n",
              "      <td>0</td>\n",
              "      <td>1</td>\n",
              "      <td>female</td>\n",
              "      <td>25.00</td>\n",
              "      <td>1</td>\n",
              "      <td>2</td>\n",
              "      <td>151.5500</td>\n",
              "      <td>S</td>\n",
              "    </tr>\n",
              "  </tbody>\n",
              "</table>\n",
              "</div>\n",
              "      <button class=\"colab-df-convert\" onclick=\"convertToInteractive('df-3e530e4e-a268-4cbe-ba16-64ab0c206274')\"\n",
              "              title=\"Convert this dataframe to an interactive table.\"\n",
              "              style=\"display:none;\">\n",
              "        \n",
              "  <svg xmlns=\"http://www.w3.org/2000/svg\" height=\"24px\"viewBox=\"0 0 24 24\"\n",
              "       width=\"24px\">\n",
              "    <path d=\"M0 0h24v24H0V0z\" fill=\"none\"/>\n",
              "    <path d=\"M18.56 5.44l.94 2.06.94-2.06 2.06-.94-2.06-.94-.94-2.06-.94 2.06-2.06.94zm-11 1L8.5 8.5l.94-2.06 2.06-.94-2.06-.94L8.5 2.5l-.94 2.06-2.06.94zm10 10l.94 2.06.94-2.06 2.06-.94-2.06-.94-.94-2.06-.94 2.06-2.06.94z\"/><path d=\"M17.41 7.96l-1.37-1.37c-.4-.4-.92-.59-1.43-.59-.52 0-1.04.2-1.43.59L10.3 9.45l-7.72 7.72c-.78.78-.78 2.05 0 2.83L4 21.41c.39.39.9.59 1.41.59.51 0 1.02-.2 1.41-.59l7.78-7.78 2.81-2.81c.8-.78.8-2.07 0-2.86zM5.41 20L4 18.59l7.72-7.72 1.47 1.35L5.41 20z\"/>\n",
              "  </svg>\n",
              "      </button>\n",
              "      \n",
              "  <style>\n",
              "    .colab-df-container {\n",
              "      display:flex;\n",
              "      flex-wrap:wrap;\n",
              "      gap: 12px;\n",
              "    }\n",
              "\n",
              "    .colab-df-convert {\n",
              "      background-color: #E8F0FE;\n",
              "      border: none;\n",
              "      border-radius: 50%;\n",
              "      cursor: pointer;\n",
              "      display: none;\n",
              "      fill: #1967D2;\n",
              "      height: 32px;\n",
              "      padding: 0 0 0 0;\n",
              "      width: 32px;\n",
              "    }\n",
              "\n",
              "    .colab-df-convert:hover {\n",
              "      background-color: #E2EBFA;\n",
              "      box-shadow: 0px 1px 2px rgba(60, 64, 67, 0.3), 0px 1px 3px 1px rgba(60, 64, 67, 0.15);\n",
              "      fill: #174EA6;\n",
              "    }\n",
              "\n",
              "    [theme=dark] .colab-df-convert {\n",
              "      background-color: #3B4455;\n",
              "      fill: #D2E3FC;\n",
              "    }\n",
              "\n",
              "    [theme=dark] .colab-df-convert:hover {\n",
              "      background-color: #434B5C;\n",
              "      box-shadow: 0px 1px 3px 1px rgba(0, 0, 0, 0.15);\n",
              "      filter: drop-shadow(0px 1px 2px rgba(0, 0, 0, 0.3));\n",
              "      fill: #FFFFFF;\n",
              "    }\n",
              "  </style>\n",
              "\n",
              "      <script>\n",
              "        const buttonEl =\n",
              "          document.querySelector('#df-3e530e4e-a268-4cbe-ba16-64ab0c206274 button.colab-df-convert');\n",
              "        buttonEl.style.display =\n",
              "          google.colab.kernel.accessAllowed ? 'block' : 'none';\n",
              "\n",
              "        async function convertToInteractive(key) {\n",
              "          const element = document.querySelector('#df-3e530e4e-a268-4cbe-ba16-64ab0c206274');\n",
              "          const dataTable =\n",
              "            await google.colab.kernel.invokeFunction('convertToInteractive',\n",
              "                                                     [key], {});\n",
              "          if (!dataTable) return;\n",
              "\n",
              "          const docLinkHtml = 'Like what you see? Visit the ' +\n",
              "            '<a target=\"_blank\" href=https://colab.research.google.com/notebooks/data_table.ipynb>data table notebook</a>'\n",
              "            + ' to learn more about interactive tables.';\n",
              "          element.innerHTML = '';\n",
              "          dataTable['output_type'] = 'display_data';\n",
              "          await google.colab.output.renderOutput(dataTable, element);\n",
              "          const docLink = document.createElement('div');\n",
              "          docLink.innerHTML = docLinkHtml;\n",
              "          element.appendChild(docLink);\n",
              "        }\n",
              "      </script>\n",
              "    </div>\n",
              "  </div>\n",
              "  "
            ]
          },
          "metadata": {},
          "execution_count": 4
        }
      ],
      "source": [
        "data = pd.read_csv('F22-Introduction-to-Machine-Learning/Lab-3/titanic.csv')\n",
        "# removing name column\n",
        "data = data.drop(['name'], axis = 1)\n",
        "data.head()"
      ],
      "metadata": {
        "pycharm": {
          "name": "#%%\n"
        },
        "id": "IcPwzzL5MnSB",
        "outputId": "193f54a4-8d5c-4fd2-f43a-dffd932dc39a",
        "colab": {
          "base_uri": "https://localhost:8080/",
          "height": 204
        }
      }
    },
    {
      "cell_type": "code",
      "execution_count": 5,
      "outputs": [],
      "source": [
        "# split data\n",
        "x_train, x_test, y_train, y_test = train_test_split(data.loc[:, 'pclass':], data['survived'],\n",
        "                                                    test_size=0.2, stratify=data['survived'])"
      ],
      "metadata": {
        "pycharm": {
          "name": "#%%\n"
        },
        "id": "P3B4eapoMnSC"
      }
    },
    {
      "cell_type": "markdown",
      "source": [
        "## Data preprocessing\n",
        "NB can handle discrete features data which can be useful with categorical data.\n",
        "\n",
        "Let's see one of the advantages of NB classifier. NB is not affected by data scaling"
      ],
      "metadata": {
        "collapsed": false,
        "pycharm": {
          "name": "#%% md\n"
        },
        "id": "JFHr-caxMnSC"
      }
    },
    {
      "cell_type": "code",
      "execution_count": 6,
      "outputs": [
        {
          "output_type": "stream",
          "name": "stderr",
          "text": [
            "/usr/local/lib/python3.7/dist-packages/sklearn/utils/deprecation.py:87: FutureWarning: Function get_feature_names is deprecated; get_feature_names is deprecated in 1.0 and will be removed in 1.2. Please use get_feature_names_out instead.\n",
            "  warnings.warn(msg, category=FutureWarning)\n",
            "/usr/local/lib/python3.7/dist-packages/sklearn/utils/deprecation.py:87: FutureWarning: Function get_feature_names is deprecated; get_feature_names is deprecated in 1.0 and will be removed in 1.2. Please use get_feature_names_out instead.\n",
            "  warnings.warn(msg, category=FutureWarning)\n"
          ]
        }
      ],
      "source": [
        "# imputing missing values\n",
        "imputer = SimpleImputer(strategy='most_frequent')\n",
        "imputer.fit(x_train)\n",
        "x_train = pd.DataFrame(imputer.transform(x_train), columns=x_train.columns)\n",
        "x_test = pd.DataFrame(imputer.transform(x_test), columns=x_test.columns)\n",
        "\n",
        "# one-hot-encode categorical features\n",
        "def ohe_new_features(df, features_name, encoder):\n",
        "    new_feats = encoder.transform(df[features_name])\n",
        "    # create dataframe from encoded features with named columns\n",
        "    new_cols = pd.DataFrame(new_feats, dtype=int, columns=encoder.get_feature_names(features_name))\n",
        "    new_df = pd.concat([df, new_cols], axis=1)\n",
        "    new_df.drop(features_name, axis=1, inplace=True)\n",
        "    return new_df\n",
        "\n",
        "encoder = OneHotEncoder(sparse=False, drop='first')\n",
        "f_names = ['sex', 'embarked']\n",
        "encoder.fit(x_train[f_names])\n",
        "x_train = ohe_new_features(x_train, f_names, encoder)\n",
        "x_test = ohe_new_features(x_test, f_names, encoder)\n",
        "\n",
        "# feature scaling\n",
        "scaler = MinMaxScaler()\n",
        "scaler.fit(x_train)\n",
        "scaled_x_train = pd.DataFrame(scaler.transform(x_train), columns=x_train.columns)\n",
        "scaled_x_test = pd.DataFrame(scaler.transform(x_test), columns=x_test.columns)"
      ],
      "metadata": {
        "pycharm": {
          "name": "#%%\n"
        },
        "id": "56-8hr08MnSC",
        "outputId": "3d876ada-6558-4671-c9a4-ae5026ab0bf0",
        "colab": {
          "base_uri": "https://localhost:8080/"
        }
      }
    },
    {
      "cell_type": "markdown",
      "source": [
        "Train and test two NB models ono the data before scaling and one after scaling\n",
        "and observe if the accuracy change with scaling"
      ],
      "metadata": {
        "collapsed": false,
        "pycharm": {
          "name": "#%% md\n"
        },
        "id": "VLz3grmOMnSD"
      }
    },
    {
      "cell_type": "code",
      "execution_count": 13,
      "outputs": [
        {
          "output_type": "stream",
          "name": "stdout",
          "text": [
            "GaussianNB accuracy before scaling: 0.7748091603053435\n",
            "MultinomialNB accuracy before scaling: 0.6526717557251909\n",
            "GaussianNB accuracy before scaling: 0.7748091603053435\n",
            "MultinomialNB accuracy before scaling: 0.6526717557251909\n"
          ]
        }
      ],
      "source": [
        "from sklearn.naive_bayes import GaussianNB, MultinomialNB\n",
        "\n",
        "\n",
        "models = {'GaussianNB': GaussianNB(), 'MultinomialNB': MultinomialNB()}\n",
        "\n",
        "# Write code here\n",
        "for name, nb in models.items():\n",
        "    nb.fit(x_train, y_train)\n",
        "    y_pred = nb.predict(x_test)\n",
        "    print(f'{name} accuracy before scaling: {accuracy_score(y_test, y_pred)}')\n",
        "\n",
        "# Write code here\n",
        "for name, nb in models.items():\n",
        "    nb.fit(scaled_x_train, y_train)\n",
        "    y_pred = nb.predict(scaled_x_test)\n",
        "    print(f'{name} accuracy before scaling: {accuracy_score(y_test, y_pred)}')"
      ],
      "metadata": {
        "pycharm": {
          "name": "#%%\n"
        },
        "id": "Rkf1T52OMnSD",
        "outputId": "fa003c13-513d-49f6-c4ed-87a771b2f3ca",
        "colab": {
          "base_uri": "https://localhost:8080/"
        }
      }
    },
    {
      "cell_type": "markdown",
      "source": [
        "```\n",
        "Accuracy before scaling: 0.7633587786259542\n",
        "Accuracy after scaling: 0.7633587786259542\n",
        "```"
      ],
      "metadata": {
        "id": "-qS_V-174iSH"
      }
    },
    {
      "cell_type": "markdown",
      "source": [
        "# Regularization\n",
        "What is [Elastic-Net](https://scikit-learn.org/stable/modules/linear_model.html#elastic-net)?\n",
        "How can you specify the contribution of each part using l1 ration\n",
        "\n",
        "Apply classification on the breast cancer dataset with no regularization, l1,\n",
        "l2, and elastic-net."
      ],
      "metadata": {
        "collapsed": false,
        "pycharm": {
          "name": "#%% md\n"
        },
        "id": "gYC3dTuHMnSE"
      }
    },
    {
      "cell_type": "markdown",
      "source": [
        "### Loading Breast cancer dataset"
      ],
      "metadata": {
        "collapsed": false,
        "pycharm": {
          "name": "#%% md\n"
        },
        "id": "_8d6bq7_MnSE"
      }
    },
    {
      "cell_type": "code",
      "source": [
        "X, y = load_breast_cancer(return_X_y=True)\n",
        "\n",
        "x_train, x_test, y_train, y_test = train_test_split(X, y, test_size=0.3, random_state=123)"
      ],
      "metadata": {
        "pycharm": {
          "name": "#%%\n"
        },
        "id": "Vzm-Hwo2MnSE"
      },
      "execution_count": null,
      "outputs": []
    },
    {
      "cell_type": "markdown",
      "source": [
        "### Fitting both Lasso and Ridge\n",
        "\n",
        "Fit 3 models: Lasso and Ridge and Elastic-Net.\n",
        "Then print their accuracy and coefficients and notice the difference."
      ],
      "metadata": {
        "collapsed": false,
        "pycharm": {
          "name": "#%% md\n"
        },
        "id": "_jJVyexKMnSE"
      }
    },
    {
      "cell_type": "code",
      "execution_count": 29,
      "outputs": [
        {
          "output_type": "stream",
          "name": "stdout",
          "text": [
            "Lasso               precision    recall  f1-score   support\n",
            "\n",
            "           0       0.81      0.83      0.82       162\n",
            "           1       0.71      0.68      0.69       100\n",
            "\n",
            "    accuracy                           0.77       262\n",
            "   macro avg       0.76      0.75      0.76       262\n",
            "weighted avg       0.77      0.77      0.77       262\n",
            "\n",
            "Lasso Coefficient:\n",
            "\t[-0.83470541 -0.03538166 -0.29065175 -0.07829262  0.00258102 -2.55322452\n",
            " -0.49444722 -0.46665748]\n",
            "Sum of lasso abs values: 4.755941679744645\n"
          ]
        }
      ],
      "source": [
        "from sklearn.linear_model import LogisticRegression\n",
        "\n",
        "\n",
        "lasso = LogisticRegression(penalty='l1', solver='liblinear')\n",
        "lasso.fit(x_train, y_train)\n",
        "y_pred = lasso.predict(x_test)\n",
        "print('Lasso', classification_report(y_test, y_pred))\n",
        "print(\"Lasso Coefficient:\", *lasso.coef_, sep='\\n\\t')\n",
        "print('Sum of lasso abs values:', np.sum(np.abs(lasso.coef_)))"
      ],
      "metadata": {
        "pycharm": {
          "name": "#%%\n"
        },
        "id": "SWsDKtgVMnSE",
        "outputId": "6fe2129b-9c79-49c5-936e-a3b8d67b71f2",
        "colab": {
          "base_uri": "https://localhost:8080/"
        }
      }
    },
    {
      "cell_type": "code",
      "source": [
        "ridge = LogisticRegression(penalty='l2', solver='liblinear')\n",
        "ridge.fit(x_train, y_train)\n",
        "y_pred = lasso.predict(x_test)\n",
        "print('Ridge', classification_report(y_test, y_pred))\n",
        "print(\"Ridge Coefficient:\", *ridge.coef_, sep='\\n\\t')\n",
        "print('Sum of ridge abs values:', np.sum(np.abs(ridge.coef_)))"
      ],
      "metadata": {
        "id": "0MyIwxLI_zYa",
        "outputId": "7ba771ea-6c3c-48a9-856b-cd725c56488e",
        "colab": {
          "base_uri": "https://localhost:8080/"
        }
      },
      "execution_count": 27,
      "outputs": [
        {
          "output_type": "stream",
          "name": "stdout",
          "text": [
            "Ridge               precision    recall  f1-score   support\n",
            "\n",
            "           0       0.81      0.83      0.82       162\n",
            "           1       0.71      0.68      0.69       100\n",
            "\n",
            "    accuracy                           0.77       262\n",
            "   macro avg       0.76      0.75      0.76       262\n",
            "weighted avg       0.77      0.77      0.77       262\n",
            "\n",
            "Ridge Coefficient:\n",
            "\t[-0.70110315 -0.02962878 -0.27788428 -0.08214945  0.00376451 -2.43960123\n",
            " -0.50143228 -0.42100097]\n",
            "Sum of ridge abs values: 4.456564655023065\n"
          ]
        }
      ]
    },
    {
      "cell_type": "code",
      "source": [
        "elasticnet = LogisticRegression(penalty='elasticnet', solver='saga', l1_ratio=0.5)\n",
        "elasticnet.fit(x_train, y_train)\n",
        "y_pred = lasso.predict(x_test)\n",
        "print('ElasticNet', classification_report(y_test, y_pred))\n",
        "print(\"Ridge Coefficient:\", *elasticnet.coef_, sep='\\n\\t')\n",
        "print('Sum of ridge abs values:', np.sum(np.abs(elasticnet.coef_)))"
      ],
      "metadata": {
        "id": "AK2asDms_2Sv",
        "outputId": "6cdec383-d5bb-44f0-9fff-8b8ed4ccc301",
        "colab": {
          "base_uri": "https://localhost:8080/"
        }
      },
      "execution_count": 28,
      "outputs": [
        {
          "output_type": "stream",
          "name": "stdout",
          "text": [
            "ElasticNet               precision    recall  f1-score   support\n",
            "\n",
            "           0       0.81      0.83      0.82       162\n",
            "           1       0.71      0.68      0.69       100\n",
            "\n",
            "    accuracy                           0.77       262\n",
            "   macro avg       0.76      0.75      0.76       262\n",
            "weighted avg       0.77      0.77      0.77       262\n",
            "\n",
            "Ridge Coefficient:\n",
            "\t[-0.07720081 -0.02131138 -0.03739339 -0.00436155  0.01270135 -0.0894325\n",
            " -0.00012684 -0.02315032]\n",
            "Sum of ridge abs values: 0.26567813244391314\n"
          ]
        },
        {
          "output_type": "stream",
          "name": "stderr",
          "text": [
            "/usr/local/lib/python3.7/dist-packages/sklearn/linear_model/_sag.py:354: ConvergenceWarning: The max_iter was reached which means the coef_ did not converge\n",
            "  ConvergenceWarning,\n"
          ]
        }
      ]
    },
    {
      "cell_type": "markdown",
      "source": [
        "# KNN\n",
        "Compare KNN vs logistic regression\n",
        "\n",
        "---\n",
        "In ML images can be flattened to 1D vector of pixels, then we can train our\n",
        "models on them considering each pixel as a feature."
      ],
      "metadata": {
        "collapsed": false,
        "id": "os0Ty8u-MnSF"
      }
    },
    {
      "cell_type": "code",
      "execution_count": 30,
      "outputs": [
        {
          "output_type": "stream",
          "name": "stdout",
          "text": [
            "Dataset shape (1797, 8, 8)\n"
          ]
        },
        {
          "output_type": "display_data",
          "data": {
            "text/plain": [
              "<Figure size 432x288 with 1 Axes>"
            ],
            "image/png": "[encoded data removed]"
          },
          "metadata": {
            "needs_background": "light"
          }
        },
        {
          "output_type": "stream",
          "name": "stdout",
          "text": [
            "Now we have 1797 images flattened to 64-values vectors\n"
          ]
        }
      ],
      "source": [
        "# Based on https://github.com/hsu-ai-course/hsu.ai/blob/master/code/12.%20kNN%20and%20ANN%20for%20MNIST.ipynb\n",
        "digits = load_digits()\n",
        "\n",
        "print(\"Dataset shape\", digits.images.shape)\n",
        "\n",
        "# show first image\n",
        "plt.title(f\"Target: {digits.target[0]}\")\n",
        "plt.imshow(digits.images[0], cmap='gray')\n",
        "plt.show()\n",
        "\n",
        "# To apply an classifier on this data, we need to flatten the image, to\n",
        "# turn the data in a (samples, feature) matrix:\n",
        "n_samples = len(digits.images)\n",
        "X = digits.images.reshape((n_samples, -1))\n",
        "y = digits.target\n",
        "print(\"Now we have {} images flattened to {}-values vectors\".format(*X.shape))"
      ],
      "metadata": {
        "pycharm": {
          "name": "#%%\n"
        },
        "id": "dXCuVd19MnSF",
        "outputId": "87bed45a-7da2-4626-96cf-80aa86fd8b55",
        "colab": {
          "base_uri": "https://localhost:8080/",
          "height": 315
        }
      }
    },
    {
      "cell_type": "code",
      "execution_count": 31,
      "outputs": [],
      "source": [
        "# Split the dataset\n",
        "X_train, X_test, y_train, y_test = train_test_split(X, y, test_size=0.2, random_state=0)"
      ],
      "metadata": {
        "pycharm": {
          "name": "#%%\n"
        },
        "id": "ri0ObnMVMnSF"
      }
    },
    {
      "cell_type": "markdown",
      "source": [
        "Train a KNN and LR models and compare their results"
      ],
      "metadata": {
        "collapsed": false,
        "id": "na3tHJ-aMnSF"
      }
    },
    {
      "cell_type": "code",
      "execution_count": 33,
      "outputs": [
        {
          "output_type": "stream",
          "name": "stdout",
          "text": [
            "KNN               precision    recall  f1-score   support\n",
            "\n",
            "           0       1.00      1.00      1.00        27\n",
            "           1       0.97      0.97      0.97        35\n",
            "           2       1.00      0.97      0.99        36\n",
            "           3       0.91      1.00      0.95        29\n",
            "           4       1.00      0.97      0.98        30\n",
            "           5       0.95      0.97      0.96        40\n",
            "           6       1.00      1.00      1.00        44\n",
            "           7       0.95      1.00      0.97        39\n",
            "           8       1.00      0.90      0.95        39\n",
            "           9       0.98      0.98      0.98        41\n",
            "\n",
            "    accuracy                           0.97       360\n",
            "   macro avg       0.98      0.98      0.98       360\n",
            "weighted avg       0.98      0.97      0.97       360\n",
            "\n",
            "LR               precision    recall  f1-score   support\n",
            "\n",
            "           0       1.00      1.00      1.00        27\n",
            "           1       0.92      0.97      0.94        35\n",
            "           2       0.97      0.97      0.97        36\n",
            "           3       0.97      1.00      0.98        29\n",
            "           4       0.97      0.97      0.97        30\n",
            "           5       0.97      0.93      0.95        40\n",
            "           6       1.00      0.98      0.99        44\n",
            "           7       0.97      0.97      0.97        39\n",
            "           8       0.97      0.92      0.95        39\n",
            "           9       0.93      0.98      0.95        41\n",
            "\n",
            "    accuracy                           0.97       360\n",
            "   macro avg       0.97      0.97      0.97       360\n",
            "weighted avg       0.97      0.97      0.97       360\n",
            "\n"
          ]
        },
        {
          "output_type": "stream",
          "name": "stderr",
          "text": [
            "/usr/local/lib/python3.7/dist-packages/sklearn/linear_model/_logistic.py:818: ConvergenceWarning: lbfgs failed to converge (status=1):\n",
            "STOP: TOTAL NO. of ITERATIONS REACHED LIMIT.\n",
            "\n",
            "Increase the number of iterations (max_iter) or scale the data as shown in:\n",
            "    https://scikit-learn.org/stable/modules/preprocessing.html\n",
            "Please also refer to the documentation for alternative solver options:\n",
            "    https://scikit-learn.org/stable/modules/linear_model.html#logistic-regression\n",
            "  extra_warning_msg=_LOGISTIC_SOLVER_CONVERGENCE_MSG,\n"
          ]
        }
      ],
      "source": [
        "from sklearn.neighbors import KNeighborsClassifier\n",
        "from sklearn.linear_model import LogisticRegression\n",
        "\n",
        "# Write code here\n",
        "knn = KNeighborsClassifier()\n",
        "knn.fit(X_train, y_train)\n",
        "\n",
        "LR = LogisticRegression()\n",
        "LR.fit(X_train, y_train)\n",
        "\n",
        "y_true, y_pred = y_test, knn.predict(X_test)\n",
        "print('KNN', classification_report(y_true, y_pred))\n",
        "\n",
        "y_true, y_pred = y_test, LR.predict(X_test)\n",
        "print('LR', classification_report(y_true, y_pred))"
      ],
      "metadata": {
        "pycharm": {
          "name": "#%%\n"
        },
        "id": "5-Yc3DKHMnSG",
        "outputId": "c9ee609b-c1b2-43b3-f252-8a62e8454cfa",
        "colab": {
          "base_uri": "https://localhost:8080/"
        }
      }
    },
    {
      "cell_type": "markdown",
      "source": [
        "Which model performed better? What is the advantages of each model over the other?\n",
        "\n",
        "What is the output of `classification_report` function? How to interpret it?"
      ],
      "metadata": {
        "collapsed": false,
        "id": "Vlro8wrIMnSG"
      }
    }
  ],
  "metadata": {
    "kernelspec": {
      "display_name": "Python 3",
      "language": "python",
      "name": "python3"
    },
    "language_info": {
      "codemirror_mode": {
        "name": "ipython",
        "version": 2
      },
      "file_extension": ".py",
      "mimetype": "text/x-python",
      "name": "python",
      "nbconvert_exporter": "python",
      "pygments_lexer": "ipython2",
      "version": "2.7.6"
    },
    "colab": {
      "provenance": []
    }
  },
  "nbformat": 4,
  "nbformat_minor": 0
}